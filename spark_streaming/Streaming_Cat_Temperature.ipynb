{
 "cells": [
  {
   "cell_type": "code",
   "execution_count": 1,
   "metadata": {},
   "outputs": [],
   "source": [
    "import os\n",
    "os.environ['PYSPARK_SUBMIT_ARGS'] = '--packages org.apache.spark:spark-streaming-kafka-0-8_2.11:2.0.2 pyspark-shell'  "
   ]
  },
  {
   "cell_type": "code",
   "execution_count": 2,
   "metadata": {},
   "outputs": [],
   "source": [
    "from pyspark import SparkContext \n",
    "from pyspark.streaming.kafka import KafkaUtils \n",
    "from pyspark.streaming import StreamingContext\n",
    "from pyspark.sql import SparkSession, Row\n",
    "\n",
    "sc = SparkContext(appName=\"PySpark_Streaming_Cat_Temperature\")  \n",
    "ssc = StreamingContext(sc, 300) \n",
    "spark = SparkSession(sc)"
   ]
  },
  {
   "cell_type": "code",
   "execution_count": 3,
   "metadata": {},
   "outputs": [],
   "source": [
    "from io import BytesIO\n",
    "\n",
    "def decode_image(message):\n",
    "    return BytesIO(message)\n",
    "\n",
    "kafkaStream = KafkaUtils.createDirectStream(\n",
    "    ssc, [\"cat_temp_humidity\"], {\"metadata.broker.list\":\"x.x.x.x:x\"})"
   ]
  },
  {
   "cell_type": "code",
   "execution_count": null,
   "metadata": {},
   "outputs": [],
   "source": [
    "import smtplib\n",
    "from email.mime.image import MIMEImage\n",
    "from email.mime.multipart import MIMEMultipart\n",
    "from email.mime.text import MIMEText\n",
    "from requests import get\n",
    "import json\n",
    "\n",
    "# Kafka offset value\n",
    "offset_last_value = 0\n",
    "# Nest current temperature\n",
    "nest_temperature = 0\n",
    "\n",
    "def store_offset_value_and_nest_temperature(rdd):\n",
    "    global offset_last_value\n",
    "    offset_range = rdd.offsetRanges()\n",
    "    offset_last_value = offset_range[len(offset_range) - 1].untilOffset\n",
    "    \n",
    "    global nest_temperature\n",
    "    url = 'http://x.x.x.x:x/api/states/climate.living_room'\n",
    "    headers = {'x-ha-access': 'x',\n",
    "               'content-type': 'application/json'}\n",
    "\n",
    "    response = get(url, headers=headers)\n",
    "    nest_thermostat_state = json.loads(response.text)\n",
    "    nest_temperature_in_f = nest_thermostat_state['attributes']['temperature']\n",
    "    # Convert to Celsius\n",
    "    nest_temperature = (nest_temperature_in_f - 32) * 5.0/9.0\n",
    "\n",
    "    return rdd"
   ]
  },
  {
   "cell_type": "code",
   "execution_count": null,
   "metadata": {},
   "outputs": [
    {
     "name": "stdout",
     "output_type": "stream",
     "text": [
      "-------------------------------------------\n",
      "Time: 2018-01-08 09:25:00\n",
      "-------------------------------------------\n",
      "(None, u'{\"temperature\": 21.4, \"humidity\": 48.71}')\n",
      "\n",
      "+----+-----------------+\n",
      "|  _1|               _2|\n",
      "+----+-----------------+\n",
      "|21.4|21.11111111111111|\n",
      "+----+-----------------+\n",
      "\n",
      "+-------------------+\n",
      "|      avg_temp_diff|\n",
      "+-------------------+\n",
      "|0.28888888888888786|\n",
      "+-------------------+\n",
      "\n"
     ]
    }
   ],
   "source": [
    "def window12(rdd):\n",
    "    if not rdd.isEmpty():\n",
    "        df = rdd.toDF()\n",
    "        df.show(12)\n",
    "\n",
    "        df.createOrReplaceTempView(\"df\")\n",
    "\n",
    "        df_avg_temp_diff = spark.sql(\"\"\"\n",
    "        SELECT\n",
    "            AVG(temperature_difference) AS avg_temp_diff\n",
    "        FROM\n",
    "        (\n",
    "            SELECT\n",
    "                ABS(_1 - _2) AS temperature_difference\n",
    "            FROM\n",
    "                df\n",
    "        ) x\n",
    "        \"\"\")\n",
    "\n",
    "        df_avg_temp_diff.show(1)\n",
    "        \n",
    "        for row in df_avg_temp_diff.rdd.collect():\n",
    "            avg_temp_diff = row[0]\n",
    "\n",
    "            # If the moving average of temperature difference is over 3 for 1 hour, send an email alert\n",
    "            if avg_temp_diff > 3.0:                \n",
    "                server = smtplib.SMTP('smtp.gmail.com', 587)\n",
    "                server.starttls()\n",
    "                server.login(\"x@gmail.com\", \"x\")\n",
    "\n",
    "                msg = MIMEMultipart()\n",
    "                msg['Subject'] = \"Temperature Weird! (=^･ω･^=)\"\n",
    "                email_from = \"x@gmail.com\"\n",
    "                msg['From'] = email_from\n",
    "                email_to = \"x@gmail.com\"\n",
    "                msg['To'] = email_to\n",
    "                \n",
    "                text = MIMEText(\"Cat area's temperature is significantly different from Nest thermostat's current temperature. The average differene=\" + str(avg_temp_diff) + \" Nest temperature=\" + str(nest_temperature))\n",
    "                msg.attach(text)\n",
    "\n",
    "                server.sendmail(email_from, email_to, msg.as_string())\n",
    "                server.quit()\n",
    "\n",
    "kafkaStream.pprint()\n",
    "# Retrieve offset value and Nest thermostat current temperature\n",
    "rowStream = kafkaStream.transform(store_offset_value_and_nest_temperature).map(lambda x: json.loads(x[1])).map(lambda x: (x['temperature'], nest_temperature))\n",
    "\n",
    "# window for 12 batches (60 minutes)\n",
    "rowStream.window(3600, 300).foreachRDD(window12)\n",
    "\n",
    "ssc.start()\n",
    "ssc.awaitTermination()"
   ]
  },
  {
   "cell_type": "code",
   "execution_count": null,
   "metadata": {},
   "outputs": [],
   "source": []
  }
 ],
 "metadata": {
  "kernelspec": {
   "display_name": "Python 2",
   "language": "python",
   "name": "python2"
  },
  "language_info": {
   "codemirror_mode": {
    "name": "ipython",
    "version": 2
   },
   "file_extension": ".py",
   "mimetype": "text/x-python",
   "name": "python",
   "nbconvert_exporter": "python",
   "pygments_lexer": "ipython2",
   "version": "2.7.14"
  }
 },
 "nbformat": 4,
 "nbformat_minor": 2
}
