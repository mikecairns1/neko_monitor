{
 "cells": [
  {
   "cell_type": "code",
   "execution_count": null,
   "metadata": {
    "collapsed": true
   },
   "outputs": [],
   "source": [
    "from keras.preprocessing import image\n",
    "import numpy as np\n",
    "import scipy\n",
    "import os\n",
    "\n",
    "path_prefix = './data/ssd_cat_water_train/jpg/'\n",
    "\n",
    "filenames = os.listdir(path_prefix)\n",
    "for filename in filenames:\n",
    "    img = image.load_img(path_prefix + filename, target_size=(300, 300))\n",
    "    img = image.img_to_array(img)\n",
    "    scipy.misc.imsave(path_prefix + 'resized/' + filename, np.uint8(img))"
   ]
  }
 ],
 "metadata": {
  "kernelspec": {
   "display_name": "Python 3",
   "language": "python",
   "name": "python3"
  },
  "language_info": {
   "codemirror_mode": {
    "name": "ipython",
    "version": 3
   },
   "file_extension": ".py",
   "mimetype": "text/x-python",
   "name": "python",
   "nbconvert_exporter": "python",
   "pygments_lexer": "ipython3",
   "version": "3.5.3"
  }
 },
 "nbformat": 4,
 "nbformat_minor": 2
}
