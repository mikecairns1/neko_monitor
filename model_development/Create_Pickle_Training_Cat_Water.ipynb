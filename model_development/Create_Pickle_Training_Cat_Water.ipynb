{
 "cells": [
  {
   "cell_type": "code",
   "execution_count": 18,
   "metadata": {
    "collapsed": true
   },
   "outputs": [],
   "source": [
    "import numpy as np\n",
    "import os\n",
    "from xml.etree import ElementTree\n",
    "\n",
    "class XML_preprocessor(object):\n",
    "\n",
    "    def __init__(self, data_path):\n",
    "        self.path_prefix = data_path\n",
    "        self.num_classes = 2\n",
    "        self.data = dict()\n",
    "        self._preprocess_XML()\n",
    "\n",
    "    def _preprocess_XML(self):\n",
    "        filenames = os.listdir(self.path_prefix)\n",
    "        for filename in filenames:\n",
    "            tree = ElementTree.parse(self.path_prefix + filename)\n",
    "            root = tree.getroot()\n",
    "            bounding_boxes = []\n",
    "            one_hot_classes = []\n",
    "            size_tree = root.find('size')\n",
    "            width = float(size_tree.find('width').text)\n",
    "            height = float(size_tree.find('height').text)\n",
    "            for object_tree in root.findall('object'):\n",
    "                for bounding_box in object_tree.iter('bndbox'):\n",
    "                    xmin = float(bounding_box.find('xmin').text)/width\n",
    "                    ymin = float(bounding_box.find('ymin').text)/height\n",
    "                    xmax = float(bounding_box.find('xmax').text)/width\n",
    "                    ymax = float(bounding_box.find('ymax').text)/height\n",
    "                bounding_box = [xmin,ymin,xmax,ymax]\n",
    "                bounding_boxes.append(bounding_box)\n",
    "                class_name = object_tree.find('name').text\n",
    "                one_hot_class = self._to_one_hot(class_name)\n",
    "                one_hot_classes.append(one_hot_class)\n",
    "            image_name = root.find('filename').text\n",
    "            bounding_boxes = np.asarray(bounding_boxes)\n",
    "            one_hot_classes = np.asarray(one_hot_classes)\n",
    "            image_data = np.hstack((bounding_boxes, one_hot_classes))\n",
    "            self.data[image_name] = image_data\n",
    "\n",
    "    def _to_one_hot(self,name):\n",
    "        one_hot_vector = [0] * self.num_classes\n",
    "        if name == 'fountain':\n",
    "            one_hot_vector[0] = 1\n",
    "        elif name == 'cat':\n",
    "            one_hot_vector[1] = 1\n",
    "        else:\n",
    "            print('unknown label: %s' %name)\n",
    "\n",
    "        return one_hot_vector"
   ]
  },
  {
   "cell_type": "code",
   "execution_count": 20,
   "metadata": {
    "collapsed": false
   },
   "outputs": [],
   "source": [
    "import pickle\n",
    "data = XML_preprocessor('./data/ssd_cat_water_train/xml/').data\n",
    "pickle.dump(data,open('./gt_cat_water.pkl','wb'))"
   ]
  },
  {
   "cell_type": "code",
   "execution_count": null,
   "metadata": {
    "collapsed": true
   },
   "outputs": [],
   "source": []
  }
 ],
 "metadata": {
  "kernelspec": {
   "display_name": "Python 3",
   "language": "python",
   "name": "python3"
  },
  "language_info": {
   "codemirror_mode": {
    "name": "ipython",
    "version": 3
   },
   "file_extension": ".py",
   "mimetype": "text/x-python",
   "name": "python",
   "nbconvert_exporter": "python",
   "pygments_lexer": "ipython3",
   "version": "3.5.3"
  }
 },
 "nbformat": 4,
 "nbformat_minor": 2
}
